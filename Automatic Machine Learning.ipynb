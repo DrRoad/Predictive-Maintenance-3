{
 "cells": [
  {
   "cell_type": "markdown",
   "metadata": {},
   "source": [
    "# Predictive Maintance Model\n",
    "### Created with H2O Automatic Machine Learning\n",
    "\n",
    "This notebook ingests a dataset, and trains many machine learning models intelligently searching the hyper-parameter space for optimal values. A leaderboard is maintained. Finally, an ensemble is created stacking together some of the base learners and the result is added to the leaderboard. The best model is deployed to production. \n"
   ]
  },
  {
   "cell_type": "code",
   "execution_count": 1,
   "metadata": {},
   "outputs": [],
   "source": [
    "%%capture\n",
    "import h2o\n",
    "from h2o.automl import H2OAutoML\n",
    "\n",
    "import os\n",
    "import plotly\n",
    "!pip install cufflinks\n",
    "import cufflinks\n",
    "import plotly.plotly as py\n",
    "import plotly.graph_objs as go\n",
    "import plotly.figure_factory as ff\n",
    "plotly.offline.init_notebook_mode(connected=True)\n",
    "\n",
    "myPlotlyKey = os.environ['SECRET_ENV_BRETTS_PLOTLY_KEY']\n",
    "py.sign_in(username='bretto777',api_key=myPlotlyKey)\n",
    "\n",
    "\n",
    "# Suppress unwatned warnings\n",
    "import warnings\n",
    "warnings.filterwarnings('ignore')\n",
    "\n",
    "\n",
    "import pandas as pd\n",
    "import numpy as np"
   ]
  },
  {
   "cell_type": "code",
   "execution_count": 16,
   "metadata": {},
   "outputs": [],
   "source": [
    "%%capture\n",
    "h2o.init(max_mem_size=\"4g\", nthreads=1)"
   ]
  },
  {
   "cell_type": "code",
   "execution_count": 34,
   "metadata": {},
   "outputs": [],
   "source": [
    "#h2o.no_progress()\n",
    "# Import some data from Amazon S3\n",
    "h2oDF = h2o.import_file(\"https://s3-us-west-1.amazonaws.com/dsclouddata/predictive-maintenance/DataWithFeatures.csv\")\n",
    "\n",
    "#Split into Train/Test\n",
    "train,test = h2oDF.split_frame(ratios=[0.3])\n",
    "\n"
   ]
  },
  {
   "cell_type": "code",
   "execution_count": 49,
   "metadata": {},
   "outputs": [
    {
     "data": {
      "text/html": [
       "<iframe id=\"igraph\" scrolling=\"no\" style=\"border:none;\" seamless=\"seamless\" src=\"https://plot.ly/~bretto777/2945.embed\" height=\"800px\" width=\"800px\"></iframe>"
      ],
      "text/plain": [
       "<plotly.tools.PlotlyDisplay object>"
      ]
     },
     "execution_count": 49,
     "metadata": {},
     "output_type": "execute_result"
    }
   ],
   "source": [
    "splomDF = h2oDF.as_data_frame(use_pandas=True)\n",
    "\n",
    "\n",
    "splomDF = splomDF[['3 - Gas Turbine shaft torque (GTT) [kN m]','8 - HP Turbine exit temperature (T48) [C]','10 - GT Compressor outlet air temperature (T2) [C]','16 - Fuel flow (mf) [kg/s]','18 - GT Turbine decay state coefficient.']]\n",
    "\n",
    "# Create scatter plot matrix of call data\n",
    "splom = ff.create_scatterplotmatrix(splomDF.sample(frac=0.1), diag='histogram', index='18 - GT Turbine decay state coefficient.',  \n",
    "                                  height=800, width=800,\n",
    "                                  size=4, marker=dict(symbol='circle'))\n",
    "py.iplot(splom)"
   ]
  },
  {
   "cell_type": "code",
   "execution_count": 36,
   "metadata": {},
   "outputs": [],
   "source": [
    "# Identify predictors and response\n",
    "x = train.columns\n",
    "y = \"18 - GT Turbine decay state coefficient.\"\n",
    "x.remove(y)"
   ]
  },
  {
   "cell_type": "code",
   "execution_count": 37,
   "metadata": {},
   "outputs": [],
   "source": [
    "# Run AutoML for 20 minutes or until leader fails to improve after 5 rounds\n",
    "autoModel = H2OAutoML(max_runtime_secs = 300, stopping_rounds=5, stopping_tolerance=0.001)\n",
    "autoModel.train(x = x, y = y,\n",
    "          training_frame = train,\n",
    "          leaderboard_frame = test)"
   ]
  },
  {
   "cell_type": "markdown",
   "metadata": {},
   "source": [
    "## Leaderboard\n",
    "Display the best models, sorted by descending AUC"
   ]
  },
  {
   "cell_type": "code",
   "execution_count": 38,
   "metadata": {},
   "outputs": [
    {
     "data": {
      "text/html": [
       "<table>\n",
       "<thead>\n",
       "<tr><th>model_id                                 </th><th style=\"text-align: right;\">  mean_residual_deviance</th><th style=\"text-align: right;\">    rmse</th><th style=\"text-align: right;\">     mae</th><th style=\"text-align: right;\">   rmsle</th></tr>\n",
       "</thead>\n",
       "<tbody>\n",
       "<tr><td>StackedEnsemble_0_AutoML_20171027_031002 </td><td style=\"text-align: right;\">                 2e-06  </td><td style=\"text-align: right;\">0.00131 </td><td style=\"text-align: right;\">0.000806</td><td style=\"text-align: right;\">0.000659</td></tr>\n",
       "<tr><td>GBM_grid_0_AutoML_20171027_031002_model_1</td><td style=\"text-align: right;\">                 2e-06  </td><td style=\"text-align: right;\">0.001312</td><td style=\"text-align: right;\">0.000806</td><td style=\"text-align: right;\">0.00066 </td></tr>\n",
       "<tr><td>GBM_grid_0_AutoML_20171027_031002_model_0</td><td style=\"text-align: right;\">                 2e-06  </td><td style=\"text-align: right;\">0.001411</td><td style=\"text-align: right;\">0.000871</td><td style=\"text-align: right;\">0.00071 </td></tr>\n",
       "<tr><td>GBM_grid_0_AutoML_20171027_031002_model_2</td><td style=\"text-align: right;\">                 2e-06  </td><td style=\"text-align: right;\">0.001483</td><td style=\"text-align: right;\">0.000959</td><td style=\"text-align: right;\">0.000746</td></tr>\n",
       "<tr><td>DRF_0_AutoML_20171027_031002             </td><td style=\"text-align: right;\">                 4e-06  </td><td style=\"text-align: right;\">0.002031</td><td style=\"text-align: right;\">0.001331</td><td style=\"text-align: right;\">0.001022</td></tr>\n",
       "<tr><td>XRT_0_AutoML_20171027_031002             </td><td style=\"text-align: right;\">                 5e-06  </td><td style=\"text-align: right;\">0.002181</td><td style=\"text-align: right;\">0.001484</td><td style=\"text-align: right;\">0.001098</td></tr>\n",
       "<tr><td>GLM_grid_0_AutoML_20171027_031002_model_1</td><td style=\"text-align: right;\">                 4.8e-05</td><td style=\"text-align: right;\">0.006937</td><td style=\"text-align: right;\">0.005919</td><td style=\"text-align: right;\">0.00349 </td></tr>\n",
       "<tr><td>GLM_grid_0_AutoML_20171027_031002_model_0</td><td style=\"text-align: right;\">                 4.8e-05</td><td style=\"text-align: right;\">0.006937</td><td style=\"text-align: right;\">0.005919</td><td style=\"text-align: right;\">0.00349 </td></tr>\n",
       "</tbody>\n",
       "</table>"
      ]
     },
     "metadata": {},
     "output_type": "display_data"
    },
    {
     "data": {
      "text/plain": []
     },
     "execution_count": 38,
     "metadata": {},
     "output_type": "execute_result"
    }
   ],
   "source": [
    "leaders = autoModel.leaderboard\n",
    "leaders"
   ]
  },
  {
   "cell_type": "markdown",
   "metadata": {},
   "source": [
    "## Variable Importance - Best Model"
   ]
  },
  {
   "cell_type": "code",
   "execution_count": 45,
   "metadata": {},
   "outputs": [
    {
     "data": {
      "text/plain": [
       "u'DRF_0_AutoML_20171027_031002'"
      ]
     },
     "execution_count": 45,
     "metadata": {},
     "output_type": "execute_result"
    }
   ],
   "source": [
    "leaders[1, 0]"
   ]
  },
  {
   "cell_type": "code",
   "execution_count": 46,
   "metadata": {},
   "outputs": [
    {
     "data": {
      "text/html": [
       "<div>\n",
       "<style>\n",
       "    .dataframe thead tr:only-child th {\n",
       "        text-align: right;\n",
       "    }\n",
       "\n",
       "    .dataframe thead th {\n",
       "        text-align: left;\n",
       "    }\n",
       "\n",
       "    .dataframe tbody tr th {\n",
       "        vertical-align: top;\n",
       "    }\n",
       "</style>\n",
       "<table border=\"1\" class=\"dataframe\">\n",
       "  <thead>\n",
       "    <tr style=\"text-align: right;\">\n",
       "      <th></th>\n",
       "      <th>variable</th>\n",
       "      <th>relative_importance</th>\n",
       "      <th>scaled_importance</th>\n",
       "      <th>percentage</th>\n",
       "    </tr>\n",
       "  </thead>\n",
       "  <tbody>\n",
       "    <tr>\n",
       "      <th>0</th>\n",
       "      <td>13 - GT Compressor outlet air pressure (P2) [bar]</td>\n",
       "      <td>0.152645</td>\n",
       "      <td>1.000000</td>\n",
       "      <td>0.244423</td>\n",
       "    </tr>\n",
       "    <tr>\n",
       "      <th>1</th>\n",
       "      <td>5 - Gas Generator rate of revolutions (GGn) [rpm]</td>\n",
       "      <td>0.139532</td>\n",
       "      <td>0.914094</td>\n",
       "      <td>0.223425</td>\n",
       "    </tr>\n",
       "    <tr>\n",
       "      <th>2</th>\n",
       "      <td>16 - Fuel flow (mf) [kg/s]</td>\n",
       "      <td>0.075243</td>\n",
       "      <td>0.492926</td>\n",
       "      <td>0.120482</td>\n",
       "    </tr>\n",
       "    <tr>\n",
       "      <th>3</th>\n",
       "      <td>15 - Turbine Injecton Control (TIC) [%]</td>\n",
       "      <td>0.065708</td>\n",
       "      <td>0.430462</td>\n",
       "      <td>0.105214</td>\n",
       "    </tr>\n",
       "    <tr>\n",
       "      <th>4</th>\n",
       "      <td>8 - HP Turbine exit temperature (T48) [C]</td>\n",
       "      <td>0.055112</td>\n",
       "      <td>0.361048</td>\n",
       "      <td>0.088248</td>\n",
       "    </tr>\n",
       "    <tr>\n",
       "      <th>5</th>\n",
       "      <td>10 - GT Compressor outlet air temperature (T2) [C]</td>\n",
       "      <td>0.037964</td>\n",
       "      <td>0.248708</td>\n",
       "      <td>0.060790</td>\n",
       "    </tr>\n",
       "    <tr>\n",
       "      <th>6</th>\n",
       "      <td>11 - HP Turbine exit pressure (P48) [bar]</td>\n",
       "      <td>0.037049</td>\n",
       "      <td>0.242715</td>\n",
       "      <td>0.059325</td>\n",
       "    </tr>\n",
       "    <tr>\n",
       "      <th>7</th>\n",
       "      <td>3 - Gas Turbine shaft torque (GTT) [kN m]</td>\n",
       "      <td>0.017059</td>\n",
       "      <td>0.111756</td>\n",
       "      <td>0.027316</td>\n",
       "    </tr>\n",
       "    <tr>\n",
       "      <th>8</th>\n",
       "      <td>7 - Port Propeller Torque (Tp) [kN]</td>\n",
       "      <td>0.011809</td>\n",
       "      <td>0.077362</td>\n",
       "      <td>0.018909</td>\n",
       "    </tr>\n",
       "    <tr>\n",
       "      <th>9</th>\n",
       "      <td>6 - Starboard Propeller Torque (Ts) [kN]</td>\n",
       "      <td>0.008638</td>\n",
       "      <td>0.056587</td>\n",
       "      <td>0.013831</td>\n",
       "    </tr>\n",
       "    <tr>\n",
       "      <th>10</th>\n",
       "      <td>4 - Gas Turbine rate of revolutions (GTn) [rpm]</td>\n",
       "      <td>0.006934</td>\n",
       "      <td>0.045429</td>\n",
       "      <td>0.011104</td>\n",
       "    </tr>\n",
       "    <tr>\n",
       "      <th>11</th>\n",
       "      <td>1 - Lever position (lp) [ ]</td>\n",
       "      <td>0.006747</td>\n",
       "      <td>0.044204</td>\n",
       "      <td>0.010804</td>\n",
       "    </tr>\n",
       "    <tr>\n",
       "      <th>12</th>\n",
       "      <td>14 - Gas Turbine exhaust gas pressure (Pexh) [bar]</td>\n",
       "      <td>0.005658</td>\n",
       "      <td>0.037067</td>\n",
       "      <td>0.009060</td>\n",
       "    </tr>\n",
       "    <tr>\n",
       "      <th>13</th>\n",
       "      <td>2 - Ship speed (v) [knots]</td>\n",
       "      <td>0.004414</td>\n",
       "      <td>0.028920</td>\n",
       "      <td>0.007069</td>\n",
       "    </tr>\n",
       "  </tbody>\n",
       "</table>\n",
       "</div>"
      ],
      "text/plain": [
       "                                              variable  relative_importance  \\\n",
       "0    13 - GT Compressor outlet air pressure (P2) [bar]             0.152645   \n",
       "1    5 - Gas Generator rate of revolutions (GGn) [rpm]             0.139532   \n",
       "2                           16 - Fuel flow (mf) [kg/s]             0.075243   \n",
       "3              15 - Turbine Injecton Control (TIC) [%]             0.065708   \n",
       "4            8 - HP Turbine exit temperature (T48) [C]             0.055112   \n",
       "5   10 - GT Compressor outlet air temperature (T2) [C]             0.037964   \n",
       "6            11 - HP Turbine exit pressure (P48) [bar]             0.037049   \n",
       "7            3 - Gas Turbine shaft torque (GTT) [kN m]             0.017059   \n",
       "8                  7 - Port Propeller Torque (Tp) [kN]             0.011809   \n",
       "9             6 - Starboard Propeller Torque (Ts) [kN]             0.008638   \n",
       "10     4 - Gas Turbine rate of revolutions (GTn) [rpm]             0.006934   \n",
       "11                         1 - Lever position (lp) [ ]             0.006747   \n",
       "12  14 - Gas Turbine exhaust gas pressure (Pexh) [bar]             0.005658   \n",
       "13                          2 - Ship speed (v) [knots]             0.004414   \n",
       "\n",
       "    scaled_importance  percentage  \n",
       "0            1.000000    0.244423  \n",
       "1            0.914094    0.223425  \n",
       "2            0.492926    0.120482  \n",
       "3            0.430462    0.105214  \n",
       "4            0.361048    0.088248  \n",
       "5            0.248708    0.060790  \n",
       "6            0.242715    0.059325  \n",
       "7            0.111756    0.027316  \n",
       "8            0.077362    0.018909  \n",
       "9            0.056587    0.013831  \n",
       "10           0.045429    0.011104  \n",
       "11           0.044204    0.010804  \n",
       "12           0.037067    0.009060  \n",
       "13           0.028920    0.007069  "
      ]
     },
     "execution_count": 46,
     "metadata": {},
     "output_type": "execute_result"
    }
   ],
   "source": [
    "importances = h2o.get_model(leaders[1, 0]).varimp(use_pandas=True)\n",
    "importances"
   ]
  },
  {
   "cell_type": "code",
   "execution_count": 50,
   "metadata": {},
   "outputs": [
    {
     "data": {
      "text/html": [
       "<iframe id=\"igraph\" scrolling=\"no\" style=\"border:none;\" seamless=\"seamless\" src=\"https://plot.ly/~bretto777/2947.embed\" height=\"525px\" width=\"100%\"></iframe>"
      ],
      "text/plain": [
       "<plotly.tools.PlotlyDisplay object>"
      ]
     },
     "execution_count": 50,
     "metadata": {},
     "output_type": "execute_result"
    }
   ],
   "source": [
    "importances = h2o.get_model(leaders[1, 0]).varimp(use_pandas=True)\n",
    "importances = importances.loc[:,['variable','relative_importance']].groupby('variable').mean()\n",
    "importances.sort_values(by=\"relative_importance\", ascending=False).iplot(kind='bar', colors='#5AC4F2', theme='white')"
   ]
  },
  {
   "cell_type": "markdown",
   "metadata": {},
   "source": [
    "## Leaderboard ROC Curves"
   ]
  },
  {
   "cell_type": "code",
   "execution_count": 22,
   "metadata": {},
   "outputs": [
    {
     "data": {
      "text/html": [
       "<iframe id=\"igraph\" scrolling=\"no\" style=\"border:none;\" seamless=\"seamless\" src=\"https://plot.ly/~bretto777/2713.embed\" height=\"575px\" width=\"725px\"></iframe>"
      ],
      "text/plain": [
       "<plotly.tools.PlotlyDisplay object>"
      ]
     },
     "execution_count": 22,
     "metadata": {},
     "output_type": "execute_result"
    }
   ],
   "source": [
    "Model0 = np.array(h2o.get_model(leaders[0, 1]).roc(valid=True))\n",
    "Model1 = np.array(h2o.get_model(leaders[1, 1]).roc(valid=True))\n",
    "Model2 = np.array(h2o.get_model(leaders[2, 1]).roc(valid=True))\n",
    "Model3 = np.array(h2o.get_model(leaders[3, 1]).roc(valid=True))\n",
    "Model4 = np.array(h2o.get_model(leaders[4, 1]).roc(valid=True))\n",
    "Model5 = np.array(h2o.get_model(leaders[5, 1]).roc(valid=True))\n",
    "Model6 = np.array(h2o.get_model(leaders[6, 1]).roc(valid=True))\n",
    "Model7 = np.array(h2o.get_model(leaders[7, 1]).roc(valid=True))\n",
    "Model8 = np.array(h2o.get_model(leaders[8, 1]).roc(valid=True))\n",
    "#Model9 = np.array(h2o.get_model(leaders[9, 1]).roc(valid=True))\n",
    "\n",
    "\n",
    "layout = go.Layout(autosize=False, width=725, height=575,  xaxis=dict(title='False Positive Rate', titlefont=dict(family='Arial, sans-serif', size=15, color='grey')), \n",
    "                                                           yaxis=dict(title='True Positive Rate', titlefont=dict(family='Arial, sans-serif', size=15, color='grey')))\n",
    "\n",
    "Model0Trace = go.Scatter(x = Model0[0], y = Model0[1], mode = 'lines', name = 'Leader', line = dict(color = ('rgb(26, 58, 126)'), width = 3))\n",
    "Model1Trace = go.Scatter(x = Model1[0], y = Model1[1], mode = 'lines', name = 'Model 1', line = dict(color = ('rgb(135, 160, 216)'), width = 3))\n",
    "Model2Trace = go.Scatter(x = Model2[0], y = Model2[1], mode = 'lines', name = 'Model 2', line = dict(color = ('rgb(156, 190, 241)'), width = 1))\n",
    "Model3Trace = go.Scatter(x = Model3[0], y = Model3[1], mode = 'lines', name = 'Model 3', line = dict(color = ('rgb(156, 190, 241)'), width = 1))\n",
    "Model4Trace = go.Scatter(x = Model4[0], y = Model4[1], mode = 'lines', name = 'Model 4', line = dict(color = ('rgb(156, 190, 241)'), width = 1))\n",
    "Model5Trace = go.Scatter(x = Model5[0], y = Model5[1], mode = 'lines', name = 'Model 5', line = dict(color = ('rgb(156, 190, 241)'), width = 1))\n",
    "Model6Trace = go.Scatter(x = Model6[0], y = Model6[1], mode = 'lines', name = 'Model 6', line = dict(color = ('rgb(156, 190, 241)'), width = 1))\n",
    "Model7Trace = go.Scatter(x = Model7[0], y = Model7[1], mode = 'lines', name = 'Model 7', line = dict(color = ('rgb(156, 190, 241)'), width = 1))\n",
    "Model8Trace = go.Scatter(x = Model8[0], y = Model8[1], mode = 'lines', name = 'Model 8', line = dict(color = ('rgb(156, 190, 241)'), width = 1))\n",
    "#Model9Trace = go.Scatter(x = Model9[0], y = Model9[1], mode = 'lines', name = 'Model 9', line = dict(color = ('rgb(156, 190, 241)'), width = 1))\n",
    "\n",
    "\n",
    "traceChanceLine = go.Scatter(x = [0,1], y = [0,1], mode = 'lines+markers', name = 'chance', line = dict(color = ('rgb(136, 140, 150)'), width = 4, dash = 'dash'))\n",
    "\n",
    "fig = go.Figure(data=[Model0Trace,Model1Trace,Model2Trace,Model3Trace,Model4Trace,Model5Trace,Model7Trace,Model8Trace,traceChanceLine], layout=layout)\n",
    "\n",
    "\n",
    "py.iplot(fig)"
   ]
  },
  {
   "cell_type": "markdown",
   "metadata": {},
   "source": [
    "## Confusion Matrix"
   ]
  },
  {
   "cell_type": "code",
   "execution_count": 13,
   "metadata": {},
   "outputs": [
    {
     "data": {
      "text/html": [
       "<iframe id=\"igraph\" scrolling=\"no\" style=\"border:none;\" seamless=\"seamless\" src=\"https://plot.ly/~bretto777/2703.embed\" height=\"300px\" width=\"800px\"></iframe>"
      ],
      "text/plain": [
       "<plotly.tools.PlotlyDisplay object>"
      ]
     },
     "execution_count": 13,
     "metadata": {},
     "output_type": "execute_result"
    }
   ],
   "source": [
    "cm = autoModel.leader.confusion_matrix()\n",
    "cm = cm.table.as_data_frame()\n",
    "cm\n",
    "confusionMatrix = ff.create_table(cm)\n",
    "confusionMatrix.layout.height=300\n",
    "confusionMatrix.layout.width=800\n",
    "confusionMatrix.layout.font.size=17\n",
    "py.iplot(confusionMatrix)"
   ]
  },
  {
   "cell_type": "markdown",
   "metadata": {
    "collapsed": true
   },
   "source": [
    "## Business Impact Matrix\n",
    "\n",
    "Weighting Predictions With a Dollar Value\n",
    "- Correctly predicting GOOD: +\\$500\n",
    "- Correctly predicting BAD: +\\$800\n",
    "- Incorrectly predicting GOOD: -\\$1000\n",
    "- Incorrectly predicting BAD: -\\$100"
   ]
  },
  {
   "cell_type": "code",
   "execution_count": 23,
   "metadata": {},
   "outputs": [
    {
     "data": {
      "text/html": [
       "<iframe id=\"igraph\" scrolling=\"no\" style=\"border:none;\" seamless=\"seamless\" src=\"https://plot.ly/~bretto777/2715.embed\" height=\"300px\" width=\"800px\"></iframe>"
      ],
      "text/plain": [
       "<plotly.tools.PlotlyDisplay object>"
      ]
     },
     "execution_count": 23,
     "metadata": {},
     "output_type": "execute_result"
    }
   ],
   "source": [
    "CorrectPredictBad = cm.loc[0,'BAD']\n",
    "CorrectPredictBadImpact = 500\n",
    "cm1 = CorrectPredictBad*CorrectPredictBadImpact\n",
    "\n",
    "IncorrectPredictBad = cm.loc[1,'BAD']\n",
    "IncorrectPredictBadImpact = -100\n",
    "cm2 = IncorrectPredictBad*IncorrectPredictBadImpact\n",
    "\n",
    "IncorrectPredictGood = cm.loc[0,'GOOD']\n",
    "IncorrectPredictGoodImpact = -1000\n",
    "cm3 = IncorrectPredictGood*IncorrectPredictGoodImpact\n",
    "\n",
    "CorrectPredictGood = cm.loc[0,'GOOD']\n",
    "CorrectPredictGoodImpact = 800\n",
    "cm4 = CorrectPredictGood*CorrectPredictGoodImpact\n",
    "\n",
    "\n",
    "data_matrix = [['Business Impact', '($) Predicted BAD', '($) Predicted GOOD', '($) Total'],\n",
    "               ['($) Actual BAD', cm1, cm3, '' ],\n",
    "               ['($) Actual GOOD', cm2, cm4, ''],\n",
    "               ['($) Total', cm1+cm2, cm3+cm4, cm1+cm2+cm3+cm4]]\n",
    "\n",
    "impactMatrix = ff.create_table(data_matrix, height_constant=20, hoverinfo='weight')\n",
    "impactMatrix.layout.height=300\n",
    "impactMatrix.layout.width=800\n",
    "impactMatrix.layout.font.size=17\n",
    "py.iplot(impactMatrix)"
   ]
  },
  {
   "cell_type": "code",
   "execution_count": null,
   "metadata": {
    "collapsed": true
   },
   "outputs": [],
   "source": [
    "h2o.save_model(model=autoModel.leader)"
   ]
  },
  {
   "cell_type": "code",
   "execution_count": null,
   "metadata": {
    "collapsed": true
   },
   "outputs": [],
   "source": [
    "def approve_loan(Loan_Amount,Term,Interest_Rate,Employment_Years,Home_Ownership,Annual_Income,Verification_Status,Loan_Purpose,State,\n",
    "                 Debt_to_Income,Delinquent_2yr,Revolving_Cr_Util,Total_Accounts,Longest_Credit_Length):\n",
    "    # connect to the model scoring service\n",
    "    h2o.connect()\n",
    "\n",
    "    # open the downloaded model\n",
    "    ChurnPredictor = h2o.load_model(path='DRF_model_1496459915419_4') \n",
    "\n",
    "    # define a feature vector to evaluate with the model\n",
    "    newData = pd.DataFrame({'Loan_Amount' : Loan_Amount,\n",
    "                            'Term' : Term,\n",
    "                            'Interest_Rate' : Interest_Rate,\n",
    "                            'Employment_Years' : Employment_Years,\n",
    "                            'Home_Ownership' : Home_Ownership,\n",
    "                            'Annual_Income' : Annual_Income,\n",
    "                            'Verification_Status' : Verification_Status,\n",
    "                            'Loan_Purpose' : Loan_Purpose,\n",
    "                            'State' : State,\n",
    "                            'Debt_to_Income' : Debt_to_Income,\n",
    "                            'Delinquent_2yr' : Delinquent_2yr,\n",
    "                            'Revolving_Cr_Util' : Revolving_Cr_Util,\n",
    "                            'Total_Accounts' : Total_Accounts,\n",
    "                            'Longest_Credit_Length' : Longest_Credit_Length}, index=[0])\n",
    "    \n",
    "    # evaluate the feature vector using the model\n",
    "    predictions = ChurnPredictor.predict(h2o.H2OFrame(newData))\n",
    "    predictionsOut = h2o.as_list(predictions, use_pandas=False)\n",
    "    prediction = predictionsOut[1][0]\n",
    "    probabilityBad = predictionsOut[1][1]\n",
    "    probabilityGood = predictionsOut[1][2]\n",
    "    return \"Prediction: \" + str(prediction) + \" |Probability of Bad Loan: \" + str(probabilityBad) + \" |Probability of Good Loan: \" + str(probabilityGood)"
   ]
  },
  {
   "cell_type": "code",
   "execution_count": null,
   "metadata": {
    "collapsed": true
   },
   "outputs": [],
   "source": [
    "Loan_Amount = 5000\n",
    "Term = \"60 months\"\n",
    "Interest_Rate=13\n",
    "Employment_Years=5\n",
    "Home_Ownership=\"RENT\"\n",
    "Annual_Income=75000\n",
    "Verification_Status=\"VERIFIED - income\"\n",
    "Loan_Purpose=\"credit_card\"\n",
    "State=\"CA\"\n",
    "Debt_to_Income=\"16.12\"\n",
    "Delinquent_2yr=\"0\"\n",
    "Revolving_Cr_Util=37\n",
    "Total_Accounts=6\n",
    "Longest_Credit_Length=97\n",
    "approve_loan(Loan_Amount,Term,Interest_Rate,Employment_Years,Home_Ownership,Annual_Income,Verification_Status,Loan_Purpose,State,Debt_to_Income,Delinquent_2yr,Revolving_Cr_Util,Total_Accounts,Longest_Credit_Length)"
   ]
  }
 ],
 "metadata": {
  "kernelspec": {
   "display_name": "Python 2",
   "language": "python",
   "name": "python2"
  },
  "language_info": {
   "codemirror_mode": {
    "name": "ipython",
    "version": 2
   },
   "file_extension": ".py",
   "mimetype": "text/x-python",
   "name": "python",
   "nbconvert_exporter": "python",
   "pygments_lexer": "ipython2",
   "version": "2.7.9"
  }
 },
 "nbformat": 4,
 "nbformat_minor": 2
}
